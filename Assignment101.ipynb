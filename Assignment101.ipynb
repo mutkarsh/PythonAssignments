{
 "cells": [
  {
   "cell_type": "code",
   "execution_count": null,
   "metadata": {},
   "outputs": [],
   "source": [
    "Print below mentioned structured. Accept input from user as no. of rows to print.\n",
    "                1\n",
    "               1 2\n",
    "              1 2 1\n",
    "            1 2 3 2 1\n",
    "          1 2 3 4 3 2 1\n"
   ]
  },
  {
   "cell_type": "code",
   "execution_count": 2,
   "metadata": {},
   "outputs": [],
   "source": [
    "###############################################################################"
   ]
  },
  {
   "cell_type": "code",
   "execution_count": 136,
   "metadata": {},
   "outputs": [
    {
     "name": "stdout",
     "output_type": "stream",
     "text": [
      "enter no of rows to print.5\n",
      "        1 \n",
      "      1 2 1 \n",
      "    1 2 3 2 1 \n",
      "  1 2 3 4 3 2 1 \n",
      "1 2 3 4 5 4 3 2 1 \n"
     ]
    }
   ],
   "source": [
    "n = int(input(\"enter no of rows to print.\"))\n",
    "for i in range(1, n+1):\n",
    "    for j in range(0, n-i):\n",
    "        print(' '),        # print blank spaces\n",
    "    for k in range(1, i+1):\n",
    "        print(k),          # print no in asc order  \n",
    "    for m in range(i-1, 0, -1):\n",
    "        print(m),          # print no in desc order\n",
    "        \n",
    "    print('\\r')\n",
    "    "
   ]
  },
  {
   "cell_type": "code",
   "execution_count": null,
   "metadata": {},
   "outputs": [],
   "source": [
    "## Second Way\n"
   ]
  },
  {
   "cell_type": "code",
   "execution_count": 107,
   "metadata": {},
   "outputs": [
    {
     "name": "stdout",
     "output_type": "stream",
     "text": [
      "enter no of rows to print.5\n",
      "         1 \n",
      "       1 2 1\n",
      "     1 2 3 2 1\n",
      "   1 2 3 4 3 2 1\n",
      " 1 2 3 4 5 4 3 2 1\n"
     ]
    }
   ],
   "source": [
    "n = int(input(\"enter no of rows to print.\"))\n",
    "for i in range(1, n+1):\n",
    "    print('  '*(n-i)),                                         # print blank spaces\n",
    "    print(' '.join([str(k) for k in range(1, i+1)])),       # print no in asc order  \n",
    "    print(' '.join([str(m) for m in range(i-1, 0, -1)]))   # print no in desc order"
   ]
  },
  {
   "cell_type": "code",
   "execution_count": 108,
   "metadata": {},
   "outputs": [
    {
     "name": "stdout",
     "output_type": "stream",
     "text": [
      "enter no of rows to print.5\n",
      "         1 \n",
      "       1 2 1 \n",
      "     1 2 3 2 1 \n",
      "   1 2 3 4 3 2 1 \n",
      " 1 2 3 4 5 4 3 2 1 \n"
     ]
    }
   ],
   "source": [
    "n = int(input(\"enter no of rows to print.\"))\n",
    "for i in range(1, n+1):\n",
    "    print('  '*(n-i)),        # print blank spaces\n",
    "    for k in range(1, i+1):\n",
    "        print(k),          # print no in asc order  \n",
    "    for m in range(i-1, 0, -1):\n",
    "        print(m),          # print no in desc order\n",
    "        \n",
    "    print('\\r')"
   ]
  },
  {
   "cell_type": "code",
   "execution_count": 109,
   "metadata": {},
   "outputs": [],
   "source": [
    "###########################################################"
   ]
  },
  {
   "cell_type": "code",
   "execution_count": null,
   "metadata": {},
   "outputs": [],
   "source": [
    "Define a main function which calls another function.\n",
    "The second function should accept integer value as parameter and return the Fibonacci series.\n",
    "For example: 0, 1, 1, 2, 3, 5, 8, 13 and so on..."
   ]
  },
  {
   "cell_type": "code",
   "execution_count": 138,
   "metadata": {},
   "outputs": [
    {
     "name": "stdout",
     "output_type": "stream",
     "text": [
      "Enter the range of fibonacci series:5\n",
      "[0, 1, 1, 2, 3]\n"
     ]
    }
   ],
   "source": [
    "def printFibonacci(n):\n",
    "    f0, f1 = 0, 1\n",
    "    for _ in range(n):\n",
    "        yield f0\n",
    "        f0, f1 = f1, f0+f1\n",
    "\n",
    "if __name__==\"__main__\":\n",
    "    print(list(printFibonacci(int(input(\"Enter the range of fibonacci series:\")))))"
   ]
  },
  {
   "cell_type": "code",
   "execution_count": 139,
   "metadata": {},
   "outputs": [],
   "source": [
    "########################################################"
   ]
  },
  {
   "cell_type": "code",
   "execution_count": null,
   "metadata": {},
   "outputs": [],
   "source": []
  }
 ],
 "metadata": {
  "kernelspec": {
   "display_name": "Python 2",
   "language": "python",
   "name": "python2"
  },
  "language_info": {
   "codemirror_mode": {
    "name": "ipython",
    "version": 2
   },
   "file_extension": ".py",
   "mimetype": "text/x-python",
   "name": "python",
   "nbconvert_exporter": "python",
   "pygments_lexer": "ipython2",
   "version": "2.7.16"
  }
 },
 "nbformat": 4,
 "nbformat_minor": 2
}
